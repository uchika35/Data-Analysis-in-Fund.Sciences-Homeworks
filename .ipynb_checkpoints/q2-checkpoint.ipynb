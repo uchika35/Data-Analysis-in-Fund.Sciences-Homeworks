{
 "cells": [
  {
   "cell_type": "code",
   "execution_count": null,
   "metadata": {},
   "outputs": [],
   "source": [
    "interactions = []\n",
    "for ix, row in NBA.iterrows():\n",
    "    nominees = [row.PLAYER1_TEAM_ABBREVIATION, row.PLAYER2_TEAM_ABBREVIATION, row.PLAYER3_TEAM_ABBREVIATION]\n",
    "    nominees = [item for item in nominees if type(item) == str]\n",
    "    if len(list(set(nominees))) > 1:\n",
    "        interactions.append(tuple(set(nominees)))\n",
    "\n",
    "\n",
    "set(interactions)"
   ]
  },
  {
   "cell_type": "code",
   "execution_count": null,
   "metadata": {},
   "outputs": [],
   "source": [
    "X = NBA[NBA['PLAYER1_TEAM_ABBREVIATION'] == 'SAC']\n",
    "X = X[X['PLAYER2_TEAM_ABBREVIATION'] == 'DAL']\n",
    "X[['PLAYER1_TEAM_ABBREVIATION', 'PLAYER2_TEAM_ABBREVIATION']]"
   ]
  },
  {
   "cell_type": "code",
   "execution_count": null,
   "metadata": {},
   "outputs": [],
   "source": [
    "int_counts = {}\n",
    "for item in list(set(interactions)):\n",
    "    int_counts.update({item: interactions.count(item)})"
   ]
  },
  {
   "cell_type": "code",
   "execution_count": null,
   "metadata": {},
   "outputs": [],
   "source": [
    "teams = [item for item in list(set(NBA.PLAYER1_TEAM_ABBREVIATION)) if type(item) == str]\n",
    "\n",
    "matrix = pd.DataFrame(columns = teams, index = teams)\n",
    "for team1 in teams:\n",
    "    for team2 in teams:\n",
    "        if int_counts.get((team1, team2)):\n",
    "            matrix[team1][team2] = int_counts.get((team1, team2))\n",
    "        else:\n",
    "            matrix[team1][team2] = int_counts.get((team2, team1))\n",
    "matrix"
   ]
  }
 ],
 "metadata": {
  "kernelspec": {
   "display_name": "Python 3 (ipykernel)",
   "language": "python",
   "name": "python3"
  },
  "language_info": {
   "codemirror_mode": {
    "name": "ipython",
    "version": 3
   },
   "file_extension": ".py",
   "mimetype": "text/x-python",
   "name": "python",
   "nbconvert_exporter": "python",
   "pygments_lexer": "ipython3",
   "version": "3.9.7"
  },
  "vscode": {
   "interpreter": {
    "hash": "41a630cd893b8742dcfd855eb3639b1b85a1d9849d19b8adcd5c910dabda8987"
   }
  }
 },
 "nbformat": 4,
 "nbformat_minor": 2
}
